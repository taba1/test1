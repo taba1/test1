{
  "cells": [
    {
      "cell_type": "markdown",
      "metadata": {
        "id": "view-in-github",
        "colab_type": "text"
      },
      "source": [
        "<a href=\"https://colab.research.google.com/github/taba1/test1/blob/master/rbc5.ipynb\" target=\"_parent\"><img src=\"https://colab.research.google.com/assets/colab-badge.svg\" alt=\"Open In Colab\"/></a>"
      ]
    },
    {
      "cell_type": "code",
      "execution_count": null,
      "metadata": {
        "id": "iI0fC60Kq5be"
      },
      "outputs": [],
      "source": [
        "!pip install autograd"
      ]
    },
    {
      "cell_type": "code",
      "execution_count": null,
      "metadata": {
        "id": "U8k8U_XYAUsf"
      },
      "outputs": [],
      "source": [
        "!pip install matplotlib\n",
        "!pip install scipy\n",
        "!pip install matplotlib\n",
        "!pip install --upgrade matplotlib"
      ]
    },
    {
      "cell_type": "code",
      "execution_count": null,
      "metadata": {
        "id": "jcrR4tqMqXeK"
      },
      "outputs": [],
      "source": [
        "!python /content/HANK_EGM.py"
      ]
    },
    {
      "cell_type": "code",
      "execution_count": null,
      "metadata": {
        "id": "haYC3uiZDoe0"
      },
      "outputs": [],
      "source": [
        "# RBC.pyファイルのパスを指定\n",
        "file_path = \"/content/HANK_EGM.py\"\n",
        "\n",
        "# ファイルを開いて中身を表示\n",
        "with open(file_path, 'r') as file:\n",
        "    code_content = file.read()\n",
        "\n",
        "# 中身を表示\n",
        "print(code_content)"
      ]
    },
    {
      "cell_type": "code",
      "source": [
        "import autograd.numpy as np\n",
        "from autograd import jacobian\n",
        "np.set_printoptions(suppress=True,precision=4)\n",
        "\n",
        "from Support import SolveSystem\n",
        "\n",
        "# Indexing\n",
        "nX = 10\n",
        "nEps = 2\n",
        "iZ, iR, iK, iY, iC, iZf, iRf, iKf, iYf, iCf= range(nX)\n",
        "\n",
        "\n",
        "# Parameters\n",
        "alpha = 0.4\n",
        "beta = 0.98\n",
        "gamma = 2.0\n",
        "delta = 0.02\n",
        "rho = 0.95\n",
        "\n",
        "alphaf = 0.4\n",
        "betaf = 0.98\n",
        "gammaf = 2.0\n",
        "deltaf = 0.02\n",
        "rhof = 0.95\n",
        "\n",
        "\n",
        "\n",
        "def SteadyState():\n",
        "    Z = 1.\n",
        "    R = 1/beta\n",
        "    K = ((R-1+delta)/alpha)**(1./(alpha-1))\n",
        "    Y = K**alpha\n",
        "    C = Y - delta*K\n",
        "\n",
        "    Zf = 1.\n",
        "    Rf = 1/betaf\n",
        "    Kf = ((R-1+deltaf)/alphaf)**(1./(alphaf-1))\n",
        "    Yf = Kf**alphaf\n",
        "    Cf = Yf - deltaf*Kf\n",
        "\n",
        "\n",
        "    X = np.zeros(nX)\n",
        "    X[[iZ, iR, iK, iY, iC,iZf, iRf, iKf, iYf, iCf]] = (Z, R, K, Y, C,Zf,Rf,Kf,Yf,Cf)\n",
        "    return X\n",
        "\n",
        "X_SS = SteadyState()\n",
        "epsilon_SS = 0.0\n",
        "epsilonf_SS = 0.0\n",
        "print(\"Steady state: {}\".format(X_SS))\n",
        "\n",
        "# Model equations\n",
        "def F(X_Lag,X,X_Prime,epsilon,epsilonf):\n",
        "\n",
        "    # Unpack\n",
        "    Z, R, K, Y, C, Zf, Rf, Kf, Yf, Cf = X\n",
        "    Z_L, R_L, K_L, Y_L, C_L,Zf_L, Rf_L, Kf_L, Yf_L, Cf_L = X_Lag\n",
        "    Z_P, R_P, K_P, Y_P, C_P,Zf_P, Rf_P, Kf_P, Yf_P, Cf_P = X_Prime\n",
        "\n",
        "    print(\"Debug - X_lag\",X_Lag)\n",
        "    print(\"Debug - X\",X )\n",
        "    print(\"Debug - X_prime\",X_Prime)\n",
        "\n",
        "    return np.hstack((\n",
        "            beta * R_P * C_P**(-gamma) * C**gamma - 1.0, # Euler equation\n",
        "            alpha * Z  * K_L **(alpha-1) + 1 -delta - R, # MPK\n",
        "            (1-delta) * K_L + Y - C - K,# Aggregate resource constraint\n",
        "            Z * K_L**alpha - Y,# Production function\n",
        "            rho * np.log(Z_L) + epsilon - np.log(Z),# TFP evolution\n",
        "\n",
        "            beta * R_P * C_P**(-gamma) * C**gamma - 1.0, # Euler equation\n",
        "            alpha * Z  * K_L **(alpha-1) + 1 -delta - R, # MPK\n",
        "            (1-delta) * K_L + Y - C - K,# Aggregate resource constraint\n",
        "            Z * K_L**alpha - Y,# Production function\n",
        "            rho * np.log(Z_L) + epsilon - np.log(Z)# TFP evolution\n",
        "            ))\n",
        "\n",
        "\n",
        "# Check steady state\n",
        "assert( np.allclose( F(X_SS,X_SS,X_SS,epsilon_SS,epsilonf_SS) , np.zeros(nX)))\n",
        "\n",
        "\n",
        "# Linearize\n",
        "A = jacobian(lambda x: F(X_SS,X_SS,x,epsilon_SS,epsilonf_SS))(X_SS)\n",
        "B = jacobian(lambda x: F(X_SS,x,X_SS,epsilon_SS,epsilonf_SS))(X_SS)\n",
        "C = jacobian(lambda x: F(x,X_SS,X_SS,epsilon_SS,epsilonf_SS))(X_SS)\n",
        "E = jacobian(lambda x: F(X_SS,X_SS,X_SS,x))(epsilon_SS,epsilonf_SS)\n",
        "\n",
        "\n",
        "\n",
        "\n",
        "P, Q = SolveSystem(A,B,C,E)\n",
        "\n",
        "\n",
        "# Calculate an impulse response\n",
        "IRF_RBC = np.zeros((nX,100))\n",
        "IRF_RBC[:,0] = Q * 0.01\n",
        "\n",
        "for t in range(1,100):\n",
        "    IRF_RBC[:,t] = P@IRF_RBC[:,t-1]\n",
        "\n",
        "\n",
        "# This material below runs only if this file is executed as a script\n",
        "if __name__ == \"__main__\":\n",
        "\n",
        "\n",
        "    print(\"A: {}\".format(A))\n",
        "    print(\"B: {}\".format(B))\n",
        "    print(\"C: {}\".format(C))\n",
        "    print(\"E: {}\".format(E))\n",
        "\n",
        "    import matplotlib.pyplot as plt\n",
        "    plt.plot(IRF_RBC[iY,:])"
      ],
      "metadata": {
        "colab": {
          "base_uri": "https://localhost:8080/",
          "height": 892
        },
        "id": "Ei2FiyLCsOdH",
        "outputId": "399d6315-1668-4500-940b-8cf0b2be51be"
      },
      "execution_count": 9,
      "outputs": [
        {
          "output_type": "stream",
          "name": "stdout",
          "text": [
            "Steady state: [ 1.      1.0204 45.6371  4.6103  3.6975  1.      1.0204 45.6371  4.6103\n",
            "  3.6975]\n",
            "Debug - X_lag [ 1.      1.0204 45.6371  4.6103  3.6975  1.      1.0204 45.6371  4.6103\n",
            "  3.6975]\n",
            "Debug - X [ 1.      1.0204 45.6371  4.6103  3.6975  1.      1.0204 45.6371  4.6103\n",
            "  3.6975]\n",
            "Debug - X_prime [ 1.      1.0204 45.6371  4.6103  3.6975  1.      1.0204 45.6371  4.6103\n",
            "  3.6975]\n",
            "Debug - X_lag [ 1.      1.0204 45.6371  4.6103  3.6975  1.      1.0204 45.6371  4.6103\n",
            "  3.6975]\n",
            "Debug - X [ 1.      1.0204 45.6371  4.6103  3.6975  1.      1.0204 45.6371  4.6103\n",
            "  3.6975]\n",
            "Debug - X_prime Autograd ArrayBox with value [ 1.      1.0204 45.6371  4.6103  3.6975  1.      1.0204 45.6371  4.6103\n",
            "  3.6975]\n",
            "Debug - X_lag [ 1.      1.0204 45.6371  4.6103  3.6975  1.      1.0204 45.6371  4.6103\n",
            "  3.6975]\n",
            "Debug - X Autograd ArrayBox with value [ 1.      1.0204 45.6371  4.6103  3.6975  1.      1.0204 45.6371  4.6103\n",
            "  3.6975]\n",
            "Debug - X_prime [ 1.      1.0204 45.6371  4.6103  3.6975  1.      1.0204 45.6371  4.6103\n",
            "  3.6975]\n",
            "Debug - X_lag Autograd ArrayBox with value [ 1.      1.0204 45.6371  4.6103  3.6975  1.      1.0204 45.6371  4.6103\n",
            "  3.6975]\n",
            "Debug - X [ 1.      1.0204 45.6371  4.6103  3.6975  1.      1.0204 45.6371  4.6103\n",
            "  3.6975]\n",
            "Debug - X_prime [ 1.      1.0204 45.6371  4.6103  3.6975  1.      1.0204 45.6371  4.6103\n",
            "  3.6975]\n"
          ]
        },
        {
          "output_type": "error",
          "ename": "TypeError",
          "evalue": "ignored",
          "traceback": [
            "\u001b[0;31m---------------------------------------------------------------------------\u001b[0m",
            "\u001b[0;31mTypeError\u001b[0m                                 Traceback (most recent call last)",
            "\u001b[0;32m<ipython-input-9-1d1b7008172f>\u001b[0m in \u001b[0;36m<cell line: 86>\u001b[0;34m()\u001b[0m\n\u001b[1;32m     84\u001b[0m \u001b[0mB\u001b[0m \u001b[0;34m=\u001b[0m \u001b[0mjacobian\u001b[0m\u001b[0;34m(\u001b[0m\u001b[0;32mlambda\u001b[0m \u001b[0mx\u001b[0m\u001b[0;34m:\u001b[0m \u001b[0mF\u001b[0m\u001b[0;34m(\u001b[0m\u001b[0mX_SS\u001b[0m\u001b[0;34m,\u001b[0m\u001b[0mx\u001b[0m\u001b[0;34m,\u001b[0m\u001b[0mX_SS\u001b[0m\u001b[0;34m,\u001b[0m\u001b[0mepsilon_SS\u001b[0m\u001b[0;34m,\u001b[0m\u001b[0mepsilonf_SS\u001b[0m\u001b[0;34m)\u001b[0m\u001b[0;34m)\u001b[0m\u001b[0;34m(\u001b[0m\u001b[0mX_SS\u001b[0m\u001b[0;34m)\u001b[0m\u001b[0;34m\u001b[0m\u001b[0;34m\u001b[0m\u001b[0m\n\u001b[1;32m     85\u001b[0m \u001b[0mC\u001b[0m \u001b[0;34m=\u001b[0m \u001b[0mjacobian\u001b[0m\u001b[0;34m(\u001b[0m\u001b[0;32mlambda\u001b[0m \u001b[0mx\u001b[0m\u001b[0;34m:\u001b[0m \u001b[0mF\u001b[0m\u001b[0;34m(\u001b[0m\u001b[0mx\u001b[0m\u001b[0;34m,\u001b[0m\u001b[0mX_SS\u001b[0m\u001b[0;34m,\u001b[0m\u001b[0mX_SS\u001b[0m\u001b[0;34m,\u001b[0m\u001b[0mepsilon_SS\u001b[0m\u001b[0;34m,\u001b[0m\u001b[0mepsilonf_SS\u001b[0m\u001b[0;34m)\u001b[0m\u001b[0;34m)\u001b[0m\u001b[0;34m(\u001b[0m\u001b[0mX_SS\u001b[0m\u001b[0;34m)\u001b[0m\u001b[0;34m\u001b[0m\u001b[0;34m\u001b[0m\u001b[0m\n\u001b[0;32m---> 86\u001b[0;31m \u001b[0mE\u001b[0m \u001b[0;34m=\u001b[0m \u001b[0mjacobian\u001b[0m\u001b[0;34m(\u001b[0m\u001b[0;32mlambda\u001b[0m \u001b[0mx\u001b[0m\u001b[0;34m:\u001b[0m \u001b[0mF\u001b[0m\u001b[0;34m(\u001b[0m\u001b[0mX_SS\u001b[0m\u001b[0;34m,\u001b[0m\u001b[0mX_SS\u001b[0m\u001b[0;34m,\u001b[0m\u001b[0mX_SS\u001b[0m\u001b[0;34m,\u001b[0m\u001b[0mx\u001b[0m\u001b[0;34m)\u001b[0m\u001b[0;34m)\u001b[0m\u001b[0;34m(\u001b[0m\u001b[0mepsilon_SS\u001b[0m\u001b[0;34m,\u001b[0m\u001b[0mepsilonf_SS\u001b[0m\u001b[0;34m)\u001b[0m\u001b[0;34m\u001b[0m\u001b[0;34m\u001b[0m\u001b[0m\n\u001b[0m\u001b[1;32m     87\u001b[0m \u001b[0;34m\u001b[0m\u001b[0m\n\u001b[1;32m     88\u001b[0m \u001b[0;34m\u001b[0m\u001b[0m\n",
            "\u001b[0;32m/usr/local/lib/python3.10/dist-packages/autograd/wrap_util.py\u001b[0m in \u001b[0;36mnary_f\u001b[0;34m(*args, **kwargs)\u001b[0m\n\u001b[1;32m     18\u001b[0m             \u001b[0;32melse\u001b[0m\u001b[0;34m:\u001b[0m\u001b[0;34m\u001b[0m\u001b[0;34m\u001b[0m\u001b[0m\n\u001b[1;32m     19\u001b[0m                 \u001b[0mx\u001b[0m \u001b[0;34m=\u001b[0m \u001b[0mtuple\u001b[0m\u001b[0;34m(\u001b[0m\u001b[0margs\u001b[0m\u001b[0;34m[\u001b[0m\u001b[0mi\u001b[0m\u001b[0;34m]\u001b[0m \u001b[0;32mfor\u001b[0m \u001b[0mi\u001b[0m \u001b[0;32min\u001b[0m \u001b[0margnum\u001b[0m\u001b[0;34m)\u001b[0m\u001b[0;34m\u001b[0m\u001b[0;34m\u001b[0m\u001b[0m\n\u001b[0;32m---> 20\u001b[0;31m             \u001b[0;32mreturn\u001b[0m \u001b[0munary_operator\u001b[0m\u001b[0;34m(\u001b[0m\u001b[0munary_f\u001b[0m\u001b[0;34m,\u001b[0m \u001b[0mx\u001b[0m\u001b[0;34m,\u001b[0m \u001b[0;34m*\u001b[0m\u001b[0mnary_op_args\u001b[0m\u001b[0;34m,\u001b[0m \u001b[0;34m**\u001b[0m\u001b[0mnary_op_kwargs\u001b[0m\u001b[0;34m)\u001b[0m\u001b[0;34m\u001b[0m\u001b[0;34m\u001b[0m\u001b[0m\n\u001b[0m\u001b[1;32m     21\u001b[0m         \u001b[0;32mreturn\u001b[0m \u001b[0mnary_f\u001b[0m\u001b[0;34m\u001b[0m\u001b[0;34m\u001b[0m\u001b[0m\n\u001b[1;32m     22\u001b[0m     \u001b[0;32mreturn\u001b[0m \u001b[0mnary_operator\u001b[0m\u001b[0;34m\u001b[0m\u001b[0;34m\u001b[0m\u001b[0m\n",
            "\u001b[0;32m/usr/local/lib/python3.10/dist-packages/autograd/differential_operators.py\u001b[0m in \u001b[0;36mjacobian\u001b[0;34m(fun, x)\u001b[0m\n\u001b[1;32m     58\u001b[0m     \u001b[0;34m(\u001b[0m\u001b[0mout1\u001b[0m\u001b[0;34m,\u001b[0m \u001b[0mout2\u001b[0m\u001b[0;34m,\u001b[0m \u001b[0;34m...\u001b[0m\u001b[0;34m)\u001b[0m \u001b[0mthen\u001b[0m \u001b[0mthe\u001b[0m \u001b[0mJacobian\u001b[0m \u001b[0mhas\u001b[0m \u001b[0mshape\u001b[0m \u001b[0;34m(\u001b[0m\u001b[0mout1\u001b[0m\u001b[0;34m,\u001b[0m \u001b[0mout2\u001b[0m\u001b[0;34m,\u001b[0m \u001b[0;34m...\u001b[0m\u001b[0;34m,\u001b[0m \u001b[0min1\u001b[0m\u001b[0;34m,\u001b[0m \u001b[0min2\u001b[0m\u001b[0;34m,\u001b[0m \u001b[0;34m...\u001b[0m\u001b[0;34m)\u001b[0m\u001b[0;34m.\u001b[0m\u001b[0;34m\u001b[0m\u001b[0;34m\u001b[0m\u001b[0m\n\u001b[1;32m     59\u001b[0m     \"\"\"\n\u001b[0;32m---> 60\u001b[0;31m     \u001b[0mvjp\u001b[0m\u001b[0;34m,\u001b[0m \u001b[0mans\u001b[0m \u001b[0;34m=\u001b[0m \u001b[0m_make_vjp\u001b[0m\u001b[0;34m(\u001b[0m\u001b[0mfun\u001b[0m\u001b[0;34m,\u001b[0m \u001b[0mx\u001b[0m\u001b[0;34m)\u001b[0m\u001b[0;34m\u001b[0m\u001b[0;34m\u001b[0m\u001b[0m\n\u001b[0m\u001b[1;32m     61\u001b[0m     \u001b[0mans_vspace\u001b[0m \u001b[0;34m=\u001b[0m \u001b[0mvspace\u001b[0m\u001b[0;34m(\u001b[0m\u001b[0mans\u001b[0m\u001b[0;34m)\u001b[0m\u001b[0;34m\u001b[0m\u001b[0;34m\u001b[0m\u001b[0m\n\u001b[1;32m     62\u001b[0m     \u001b[0mjacobian_shape\u001b[0m \u001b[0;34m=\u001b[0m \u001b[0mans_vspace\u001b[0m\u001b[0;34m.\u001b[0m\u001b[0mshape\u001b[0m \u001b[0;34m+\u001b[0m \u001b[0mvspace\u001b[0m\u001b[0;34m(\u001b[0m\u001b[0mx\u001b[0m\u001b[0;34m)\u001b[0m\u001b[0;34m.\u001b[0m\u001b[0mshape\u001b[0m\u001b[0;34m\u001b[0m\u001b[0;34m\u001b[0m\u001b[0m\n",
            "\u001b[0;32m/usr/local/lib/python3.10/dist-packages/autograd/core.py\u001b[0m in \u001b[0;36mmake_vjp\u001b[0;34m(fun, x)\u001b[0m\n\u001b[1;32m      8\u001b[0m \u001b[0;32mdef\u001b[0m \u001b[0mmake_vjp\u001b[0m\u001b[0;34m(\u001b[0m\u001b[0mfun\u001b[0m\u001b[0;34m,\u001b[0m \u001b[0mx\u001b[0m\u001b[0;34m)\u001b[0m\u001b[0;34m:\u001b[0m\u001b[0;34m\u001b[0m\u001b[0;34m\u001b[0m\u001b[0m\n\u001b[1;32m      9\u001b[0m     \u001b[0mstart_node\u001b[0m \u001b[0;34m=\u001b[0m \u001b[0mVJPNode\u001b[0m\u001b[0;34m.\u001b[0m\u001b[0mnew_root\u001b[0m\u001b[0;34m(\u001b[0m\u001b[0;34m)\u001b[0m\u001b[0;34m\u001b[0m\u001b[0;34m\u001b[0m\u001b[0m\n\u001b[0;32m---> 10\u001b[0;31m     \u001b[0mend_value\u001b[0m\u001b[0;34m,\u001b[0m \u001b[0mend_node\u001b[0m \u001b[0;34m=\u001b[0m  \u001b[0mtrace\u001b[0m\u001b[0;34m(\u001b[0m\u001b[0mstart_node\u001b[0m\u001b[0;34m,\u001b[0m \u001b[0mfun\u001b[0m\u001b[0;34m,\u001b[0m \u001b[0mx\u001b[0m\u001b[0;34m)\u001b[0m\u001b[0;34m\u001b[0m\u001b[0;34m\u001b[0m\u001b[0m\n\u001b[0m\u001b[1;32m     11\u001b[0m     \u001b[0;32mif\u001b[0m \u001b[0mend_node\u001b[0m \u001b[0;32mis\u001b[0m \u001b[0;32mNone\u001b[0m\u001b[0;34m:\u001b[0m\u001b[0;34m\u001b[0m\u001b[0;34m\u001b[0m\u001b[0m\n\u001b[1;32m     12\u001b[0m         \u001b[0;32mdef\u001b[0m \u001b[0mvjp\u001b[0m\u001b[0;34m(\u001b[0m\u001b[0mg\u001b[0m\u001b[0;34m)\u001b[0m\u001b[0;34m:\u001b[0m \u001b[0;32mreturn\u001b[0m \u001b[0mvspace\u001b[0m\u001b[0;34m(\u001b[0m\u001b[0mx\u001b[0m\u001b[0;34m)\u001b[0m\u001b[0;34m.\u001b[0m\u001b[0mzeros\u001b[0m\u001b[0;34m(\u001b[0m\u001b[0;34m)\u001b[0m\u001b[0;34m\u001b[0m\u001b[0;34m\u001b[0m\u001b[0m\n",
            "\u001b[0;32m/usr/local/lib/python3.10/dist-packages/autograd/tracer.py\u001b[0m in \u001b[0;36mtrace\u001b[0;34m(start_node, fun, x)\u001b[0m\n\u001b[1;32m      8\u001b[0m     \u001b[0;32mwith\u001b[0m \u001b[0mtrace_stack\u001b[0m\u001b[0;34m.\u001b[0m\u001b[0mnew_trace\u001b[0m\u001b[0;34m(\u001b[0m\u001b[0;34m)\u001b[0m \u001b[0;32mas\u001b[0m \u001b[0mt\u001b[0m\u001b[0;34m:\u001b[0m\u001b[0;34m\u001b[0m\u001b[0;34m\u001b[0m\u001b[0m\n\u001b[1;32m      9\u001b[0m         \u001b[0mstart_box\u001b[0m \u001b[0;34m=\u001b[0m \u001b[0mnew_box\u001b[0m\u001b[0;34m(\u001b[0m\u001b[0mx\u001b[0m\u001b[0;34m,\u001b[0m \u001b[0mt\u001b[0m\u001b[0;34m,\u001b[0m \u001b[0mstart_node\u001b[0m\u001b[0;34m)\u001b[0m\u001b[0;34m\u001b[0m\u001b[0;34m\u001b[0m\u001b[0m\n\u001b[0;32m---> 10\u001b[0;31m         \u001b[0mend_box\u001b[0m \u001b[0;34m=\u001b[0m \u001b[0mfun\u001b[0m\u001b[0;34m(\u001b[0m\u001b[0mstart_box\u001b[0m\u001b[0;34m)\u001b[0m\u001b[0;34m\u001b[0m\u001b[0;34m\u001b[0m\u001b[0m\n\u001b[0m\u001b[1;32m     11\u001b[0m         \u001b[0;32mif\u001b[0m \u001b[0misbox\u001b[0m\u001b[0;34m(\u001b[0m\u001b[0mend_box\u001b[0m\u001b[0;34m)\u001b[0m \u001b[0;32mand\u001b[0m \u001b[0mend_box\u001b[0m\u001b[0;34m.\u001b[0m\u001b[0m_trace\u001b[0m \u001b[0;34m==\u001b[0m \u001b[0mstart_box\u001b[0m\u001b[0;34m.\u001b[0m\u001b[0m_trace\u001b[0m\u001b[0;34m:\u001b[0m\u001b[0;34m\u001b[0m\u001b[0;34m\u001b[0m\u001b[0m\n\u001b[1;32m     12\u001b[0m             \u001b[0;32mreturn\u001b[0m \u001b[0mend_box\u001b[0m\u001b[0;34m.\u001b[0m\u001b[0m_value\u001b[0m\u001b[0;34m,\u001b[0m \u001b[0mend_box\u001b[0m\u001b[0;34m.\u001b[0m\u001b[0m_node\u001b[0m\u001b[0;34m\u001b[0m\u001b[0;34m\u001b[0m\u001b[0m\n",
            "\u001b[0;32m/usr/local/lib/python3.10/dist-packages/autograd/wrap_util.py\u001b[0m in \u001b[0;36munary_f\u001b[0;34m(x)\u001b[0m\n\u001b[1;32m     13\u001b[0m                 \u001b[0;32melse\u001b[0m\u001b[0;34m:\u001b[0m\u001b[0;34m\u001b[0m\u001b[0;34m\u001b[0m\u001b[0m\n\u001b[1;32m     14\u001b[0m                     \u001b[0msubargs\u001b[0m \u001b[0;34m=\u001b[0m \u001b[0msubvals\u001b[0m\u001b[0;34m(\u001b[0m\u001b[0margs\u001b[0m\u001b[0;34m,\u001b[0m \u001b[0mzip\u001b[0m\u001b[0;34m(\u001b[0m\u001b[0margnum\u001b[0m\u001b[0;34m,\u001b[0m \u001b[0mx\u001b[0m\u001b[0;34m)\u001b[0m\u001b[0;34m)\u001b[0m\u001b[0;34m\u001b[0m\u001b[0;34m\u001b[0m\u001b[0m\n\u001b[0;32m---> 15\u001b[0;31m                 \u001b[0;32mreturn\u001b[0m \u001b[0mfun\u001b[0m\u001b[0;34m(\u001b[0m\u001b[0;34m*\u001b[0m\u001b[0msubargs\u001b[0m\u001b[0;34m,\u001b[0m \u001b[0;34m**\u001b[0m\u001b[0mkwargs\u001b[0m\u001b[0;34m)\u001b[0m\u001b[0;34m\u001b[0m\u001b[0;34m\u001b[0m\u001b[0m\n\u001b[0m\u001b[1;32m     16\u001b[0m             \u001b[0;32mif\u001b[0m \u001b[0misinstance\u001b[0m\u001b[0;34m(\u001b[0m\u001b[0margnum\u001b[0m\u001b[0;34m,\u001b[0m \u001b[0mint\u001b[0m\u001b[0;34m)\u001b[0m\u001b[0;34m:\u001b[0m\u001b[0;34m\u001b[0m\u001b[0;34m\u001b[0m\u001b[0m\n\u001b[1;32m     17\u001b[0m                 \u001b[0mx\u001b[0m \u001b[0;34m=\u001b[0m \u001b[0margs\u001b[0m\u001b[0;34m[\u001b[0m\u001b[0margnum\u001b[0m\u001b[0;34m]\u001b[0m\u001b[0;34m\u001b[0m\u001b[0;34m\u001b[0m\u001b[0m\n",
            "\u001b[0;31mTypeError\u001b[0m: <lambda>() takes 1 positional argument but 2 were given"
          ]
        }
      ]
    }
  ],
  "metadata": {
    "colab": {
      "provenance": [],
      "authorship_tag": "ABX9TyPewLNiOH7XXiQ9PoAS3lKB",
      "include_colab_link": true
    },
    "kernelspec": {
      "display_name": "Python 3",
      "name": "python3"
    }
  },
  "nbformat": 4,
  "nbformat_minor": 0
}