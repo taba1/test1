{
  "cells": [
    {
      "cell_type": "markdown",
      "metadata": {
        "id": "view-in-github",
        "colab_type": "text"
      },
      "source": [
        "<a href=\"https://colab.research.google.com/github/taba1/test1/blob/master/rbc51.ipynb\" target=\"_parent\"><img src=\"https://colab.research.google.com/assets/colab-badge.svg\" alt=\"Open In Colab\"/></a>"
      ]
    },
    {
      "cell_type": "code",
      "execution_count": null,
      "metadata": {
        "id": "iI0fC60Kq5be",
        "outputId": "0693f494-76de-4f4c-c47e-8302ce5643e0",
        "colab": {
          "base_uri": "https://localhost:8080/"
        }
      },
      "outputs": [
        {
          "output_type": "stream",
          "name": "stdout",
          "text": [
            "Requirement already satisfied: autograd in /usr/local/lib/python3.10/dist-packages (1.6.2)\n",
            "Requirement already satisfied: numpy>=1.12 in /usr/local/lib/python3.10/dist-packages (from autograd) (1.23.5)\n",
            "Requirement already satisfied: future>=0.15.2 in /usr/local/lib/python3.10/dist-packages (from autograd) (0.18.3)\n"
          ]
        }
      ],
      "source": [
        "!pip install autograd"
      ]
    },
    {
      "cell_type": "code",
      "execution_count": null,
      "metadata": {
        "id": "U8k8U_XYAUsf",
        "outputId": "5676ad46-8d52-48df-cd4b-49ad5f908eff",
        "colab": {
          "base_uri": "https://localhost:8080/",
          "height": 1000
        }
      },
      "outputs": [
        {
          "output_type": "stream",
          "name": "stdout",
          "text": [
            "Requirement already satisfied: matplotlib in /usr/local/lib/python3.10/dist-packages (3.7.1)\n",
            "Requirement already satisfied: contourpy>=1.0.1 in /usr/local/lib/python3.10/dist-packages (from matplotlib) (1.1.1)\n",
            "Requirement already satisfied: cycler>=0.10 in /usr/local/lib/python3.10/dist-packages (from matplotlib) (0.12.1)\n",
            "Requirement already satisfied: fonttools>=4.22.0 in /usr/local/lib/python3.10/dist-packages (from matplotlib) (4.43.1)\n",
            "Requirement already satisfied: kiwisolver>=1.0.1 in /usr/local/lib/python3.10/dist-packages (from matplotlib) (1.4.5)\n",
            "Requirement already satisfied: numpy>=1.20 in /usr/local/lib/python3.10/dist-packages (from matplotlib) (1.23.5)\n",
            "Requirement already satisfied: packaging>=20.0 in /usr/local/lib/python3.10/dist-packages (from matplotlib) (23.2)\n",
            "Requirement already satisfied: pillow>=6.2.0 in /usr/local/lib/python3.10/dist-packages (from matplotlib) (9.4.0)\n",
            "Requirement already satisfied: pyparsing>=2.3.1 in /usr/local/lib/python3.10/dist-packages (from matplotlib) (3.1.1)\n",
            "Requirement already satisfied: python-dateutil>=2.7 in /usr/local/lib/python3.10/dist-packages (from matplotlib) (2.8.2)\n",
            "Requirement already satisfied: six>=1.5 in /usr/local/lib/python3.10/dist-packages (from python-dateutil>=2.7->matplotlib) (1.16.0)\n",
            "Requirement already satisfied: scipy in /usr/local/lib/python3.10/dist-packages (1.11.3)\n",
            "Requirement already satisfied: numpy<1.28.0,>=1.21.6 in /usr/local/lib/python3.10/dist-packages (from scipy) (1.23.5)\n",
            "Requirement already satisfied: matplotlib in /usr/local/lib/python3.10/dist-packages (3.7.1)\n",
            "Requirement already satisfied: contourpy>=1.0.1 in /usr/local/lib/python3.10/dist-packages (from matplotlib) (1.1.1)\n",
            "Requirement already satisfied: cycler>=0.10 in /usr/local/lib/python3.10/dist-packages (from matplotlib) (0.12.1)\n",
            "Requirement already satisfied: fonttools>=4.22.0 in /usr/local/lib/python3.10/dist-packages (from matplotlib) (4.43.1)\n",
            "Requirement already satisfied: kiwisolver>=1.0.1 in /usr/local/lib/python3.10/dist-packages (from matplotlib) (1.4.5)\n",
            "Requirement already satisfied: numpy>=1.20 in /usr/local/lib/python3.10/dist-packages (from matplotlib) (1.23.5)\n",
            "Requirement already satisfied: packaging>=20.0 in /usr/local/lib/python3.10/dist-packages (from matplotlib) (23.2)\n",
            "Requirement already satisfied: pillow>=6.2.0 in /usr/local/lib/python3.10/dist-packages (from matplotlib) (9.4.0)\n",
            "Requirement already satisfied: pyparsing>=2.3.1 in /usr/local/lib/python3.10/dist-packages (from matplotlib) (3.1.1)\n",
            "Requirement already satisfied: python-dateutil>=2.7 in /usr/local/lib/python3.10/dist-packages (from matplotlib) (2.8.2)\n",
            "Requirement already satisfied: six>=1.5 in /usr/local/lib/python3.10/dist-packages (from python-dateutil>=2.7->matplotlib) (1.16.0)\n",
            "Requirement already satisfied: matplotlib in /usr/local/lib/python3.10/dist-packages (3.7.1)\n",
            "Collecting matplotlib\n",
            "  Downloading matplotlib-3.8.1-cp310-cp310-manylinux_2_17_x86_64.manylinux2014_x86_64.whl (11.6 MB)\n",
            "\u001b[2K     \u001b[90m━━━━━━━━━━━━━━━━━━━━━━━━━━━━━━━━━━━━━━━━\u001b[0m \u001b[32m11.6/11.6 MB\u001b[0m \u001b[31m85.7 MB/s\u001b[0m eta \u001b[36m0:00:00\u001b[0m\n",
            "\u001b[?25hRequirement already satisfied: contourpy>=1.0.1 in /usr/local/lib/python3.10/dist-packages (from matplotlib) (1.1.1)\n",
            "Requirement already satisfied: cycler>=0.10 in /usr/local/lib/python3.10/dist-packages (from matplotlib) (0.12.1)\n",
            "Requirement already satisfied: fonttools>=4.22.0 in /usr/local/lib/python3.10/dist-packages (from matplotlib) (4.43.1)\n",
            "Requirement already satisfied: kiwisolver>=1.3.1 in /usr/local/lib/python3.10/dist-packages (from matplotlib) (1.4.5)\n",
            "Requirement already satisfied: numpy<2,>=1.21 in /usr/local/lib/python3.10/dist-packages (from matplotlib) (1.23.5)\n",
            "Requirement already satisfied: packaging>=20.0 in /usr/local/lib/python3.10/dist-packages (from matplotlib) (23.2)\n",
            "Requirement already satisfied: pillow>=8 in /usr/local/lib/python3.10/dist-packages (from matplotlib) (9.4.0)\n",
            "Requirement already satisfied: pyparsing>=2.3.1 in /usr/local/lib/python3.10/dist-packages (from matplotlib) (3.1.1)\n",
            "Requirement already satisfied: python-dateutil>=2.7 in /usr/local/lib/python3.10/dist-packages (from matplotlib) (2.8.2)\n",
            "Requirement already satisfied: six>=1.5 in /usr/local/lib/python3.10/dist-packages (from python-dateutil>=2.7->matplotlib) (1.16.0)\n",
            "Installing collected packages: matplotlib\n",
            "  Attempting uninstall: matplotlib\n",
            "    Found existing installation: matplotlib 3.7.1\n",
            "    Uninstalling matplotlib-3.7.1:\n",
            "      Successfully uninstalled matplotlib-3.7.1\n",
            "\u001b[31mERROR: pip's dependency resolver does not currently take into account all the packages that are installed. This behaviour is the source of the following dependency conflicts.\n",
            "lida 0.0.10 requires fastapi, which is not installed.\n",
            "lida 0.0.10 requires kaleido, which is not installed.\n",
            "lida 0.0.10 requires python-multipart, which is not installed.\n",
            "lida 0.0.10 requires uvicorn, which is not installed.\u001b[0m\u001b[31m\n",
            "\u001b[0mSuccessfully installed matplotlib-3.8.1\n"
          ]
        },
        {
          "output_type": "display_data",
          "data": {
            "application/vnd.colab-display-data+json": {
              "pip_warning": {
                "packages": [
                  "matplotlib",
                  "mpl_toolkits"
                ]
              }
            }
          },
          "metadata": {}
        }
      ],
      "source": [
        "!pip install matplotlib\n",
        "!pip install scipy\n",
        "!pip install matplotlib\n",
        "!pip install --upgrade matplotlib"
      ]
    },
    {
      "cell_type": "code",
      "source": [
        "import autograd.numpy as np\n",
        "from autograd import jacobian\n",
        "np.set_printoptions(suppress=True,precision=4)\n",
        "\n",
        "from Support import SolveSystem\n",
        "\n",
        "# Indexing\n",
        "nX = 11\n",
        "nEps = 1\n",
        "iZ, iR, iK, iY, iC, iZf, iRf, iKf, iYf, iCf,iTK= range(nX)\n",
        "\n",
        "\n",
        "# Parameters\n",
        "alpha = 0.4\n",
        "beta = 0.98\n",
        "gamma = 2.0\n",
        "delta = 0.02\n",
        "rho = 0.95\n",
        "\n",
        "alphaf = 0.4\n",
        "betaf = 0.98\n",
        "gammaf = 2.0\n",
        "deltaf = 0.02\n",
        "rhof = 0.95\n",
        "# 収益と分散\n",
        "returns_home = 0.05  # 自国の収益\n",
        "returns_foreign = 0.06  # 外国の収益\n",
        "variance_home = 0.02  # 自国の分散\n",
        "variance_foreign = 0.03  # 外国の分散\n",
        "\n",
        "def optimize_allocation(K, Kf, TK, returns_home, returns_foreign, variance_home, variance_foreign):\n",
        "    # 目的関数：分散を最小化\n",
        "    def objective(x):\n",
        "        K, Kf = x\n",
        "        return K**2 * variance_home + Kf**2 * variance_foreign\n",
        "\n",
        "    # 制約条件：資本の合計がTKと等しい\n",
        "    constraints = ({'type': 'eq', 'fun': lambda x:  x[0] + x[1] - TK})\n",
        "\n",
        "    # 初期値\n",
        "    x0 = np.array([K, Kf])\n",
        "\n",
        "    # 最適化問題を解く\n",
        "    result = minimize(objective, x0, constraints=constraints)\n",
        "\n",
        "    return result.x\n",
        "#####################################\n",
        "def SteadyState(returns_home, returns_foreign, variance_home, variance_foreign):\n",
        "    Z = 1.\n",
        "    R = 1/beta\n",
        "    K = ((R-1+delta)/alpha)**(1./(alpha-1))\n",
        "    Y = K**alpha\n",
        "    C = Y - delta*K\n",
        "\n",
        "    Zf = 1.\n",
        "    Rf = 1/betaf\n",
        "    Kf = ((R-1+deltaf)/alphaf)**(1./(alphaf-1))\n",
        "    Yf = Kf**alphaf\n",
        "    Cf = Yf - deltaf*Kf\n",
        "    TK= K+Kf\n",
        "\n",
        "    # 最適な資本配分を計算\n",
        "    K_opt, Kf_opt = optimize_allocation(K, Kf, TK, returns_home, returns_foreign, variance_home, variance_foreign)\n",
        "    print(\"Optimal allocation: K = {}, Kf = {}\".format(K_opt, Kf_opt))\n",
        "\n",
        "    X = np.zeros(nX)\n",
        "    X[[iZ, iR, iK, iY, iC,iZf, iRf, iKf, iYf, iCf,iTK]]  = (Z, R, K_opt, Y, C,Zf,Rf,Kf_opt,Yf,Cf,TK)\n",
        "    return X\n",
        "\n",
        "##########################################\n",
        "\n",
        "\n",
        "X_SS = SteadyState(returns_home, returns_foreign, variance_home, variance_foreign)\n",
        "\n",
        "epsilon_SS = 0.0\n",
        "epsilonf_SS = 0.0\n",
        "print(\"Steady state: {}\".format(X_SS))\n",
        "\n",
        "\n",
        "\n",
        "# Model equations\n",
        "def F(X_Lag,X,X_Prime,epsilon,epsilonf):\n",
        "\n",
        "    # Unpack\n",
        "    Z, R, K, Y, C, Zf, Rf, Kf, Yf, Cf,TK  = X\n",
        "    Z_L, R_L, K_L, Y_L, C_L,Zf_L, Rf_L, Kf_L, Yf_L, Cf_L,TK_L  = X_Lag\n",
        "    Z_P, R_P, K_P, Y_P, C_P,Zf_P, Rf_P, Kf_P, Yf_P, Cf_P,TK_P  = X_Prime\n",
        "\n",
        "    print(\"Debug - X_lag\",X_Lag)\n",
        "    print(\"Debug - X\",X )\n",
        "    print(\"Debug - X_prime\",X_Prime)\n",
        "\n",
        "\n",
        "\n",
        "    return np.hstack((\n",
        "            beta * R_P * C_P**(-gamma) * C**gamma - 1.0, # Euler equation\n",
        "            alpha * Z  * K_L **(alpha-1) + 1 -delta - R, # MPK\n",
        "            (1-delta) * K_L + Y - C - K,# Aggregate resource constraint\n",
        "            Z * K_L**alpha - Y,# Production function\n",
        "            rho * np.log(Z_L) + epsilon - np.log(Z),# TFP evolution\n",
        "            K+Kf-TK, #この一部を海外資産の運用に配分する。ωを海外投資に向ける。\n",
        "            #ωTKの資本形成の減少が自国には発生するが、一方で収益が増加する。\n",
        "            #海外投資からの収益　Rf*omega*TK  omega*TK\n",
        "            betaf * Rf_P * Cf_P**(-gamma) * Cf**gamma - 1.0, # Euler equation\n",
        "            alphaf * Zf  * Kf_L **(alphaf-1) + 1 -deltaf - Rf, # MPK\n",
        "            (1-deltaf) * Kf_L + Yf - Cf - Kf,# Aggregate resource constraint\n",
        "            Zf * Kf_L**alphaf - Yf,# Production function\n",
        "            rhof * np.log(Zf_L) + epsilonf - np.log(Zf)# TFP evolution\n",
        "            ))\n",
        "\n",
        "\n",
        "\n",
        "# Check steady state\n",
        "assert( np.allclose( F(X_SS,X_SS,X_SS,epsilon_SS,epsilonf_SS) , np.zeros(nX)))\n",
        "\n",
        "\n",
        "# Linearize\n",
        "A = jacobian(lambda x: F(X_SS,X_SS,x,epsilon_SS,epsilonf_SS))(X_SS)\n",
        "B = jacobian(lambda x: F(X_SS,x,X_SS,epsilon_SS,epsilonf_SS))(X_SS)\n",
        "C = jacobian(lambda x: F(x,X_SS,X_SS,epsilon_SS,epsilonf_SS))(X_SS)\n",
        "E = jacobian(lambda x: F(X_SS, X_SS, X_SS, x, epsilonf_SS))(epsilon_SS)\n",
        "\n",
        "\n",
        "\n",
        "P, Q = SolveSystem(A,B,C,E)\n",
        "\n",
        "\n",
        "# Calculate an impulse response\n",
        "IRF_RBC = np.zeros((nX,100))\n",
        "IRF_RBC[:,0] = Q * 0.01\n",
        "\n",
        "for t in range(1,100):\n",
        "    IRF_RBC[:,t] = P@IRF_RBC[:,t-1]\n",
        "\n",
        "\n",
        "# This material below runs only if this file is executed as a script\n",
        "if __name__ == \"__main__\":\n",
        "\n",
        "\n",
        "    print(\"A: {}\".format(A))\n",
        "    print(\"B: {}\".format(B))\n",
        "    print(\"C: {}\".format(C))\n",
        "    print(\"E: {}\".format(E))\n",
        "\n",
        "    import matplotlib.pyplot as plt\n",
        "    plt.plot(IRF_RBC[iY,:])"
      ],
      "metadata": {
        "colab": {
          "base_uri": "https://localhost:8080/",
          "height": 417
        },
        "id": "Ei2FiyLCsOdH",
        "outputId": "89dd3713-7510-4945-b6a8-5872f4302e4b"
      },
      "execution_count": 41,
      "outputs": [
        {
          "output_type": "stream",
          "name": "stdout",
          "text": [
            "Optimal allocation: K = 54.764574349859586, Kf = 36.50964576046795\n",
            "Steady state: [ 1.      1.0204 54.7646  4.6103  3.6975  1.      1.0204 36.5096  4.6103\n",
            "  3.6975 91.2742]\n",
            "Debug - X_lag [ 1.      1.0204 54.7646  4.6103  3.6975  1.      1.0204 36.5096  4.6103\n",
            "  3.6975 91.2742]\n",
            "Debug - X [ 1.      1.0204 54.7646  4.6103  3.6975  1.      1.0204 36.5096  4.6103\n",
            "  3.6975 91.2742]\n",
            "Debug - X_prime [ 1.      1.0204 54.7646  4.6103  3.6975  1.      1.0204 36.5096  4.6103\n",
            "  3.6975 91.2742]\n"
          ]
        },
        {
          "output_type": "error",
          "ename": "AssertionError",
          "evalue": "ignored",
          "traceback": [
            "\u001b[0;31m---------------------------------------------------------------------------\u001b[0m",
            "\u001b[0;31mAssertionError\u001b[0m                            Traceback (most recent call last)",
            "\u001b[0;32m<ipython-input-41-c000e05481b5>\u001b[0m in \u001b[0;36m<cell line: 114>\u001b[0;34m()\u001b[0m\n\u001b[1;32m    112\u001b[0m \u001b[0;34m\u001b[0m\u001b[0m\n\u001b[1;32m    113\u001b[0m \u001b[0;31m# Check steady state\u001b[0m\u001b[0;34m\u001b[0m\u001b[0;34m\u001b[0m\u001b[0m\n\u001b[0;32m--> 114\u001b[0;31m \u001b[0;32massert\u001b[0m\u001b[0;34m(\u001b[0m \u001b[0mnp\u001b[0m\u001b[0;34m.\u001b[0m\u001b[0mallclose\u001b[0m\u001b[0;34m(\u001b[0m \u001b[0mF\u001b[0m\u001b[0;34m(\u001b[0m\u001b[0mX_SS\u001b[0m\u001b[0;34m,\u001b[0m\u001b[0mX_SS\u001b[0m\u001b[0;34m,\u001b[0m\u001b[0mX_SS\u001b[0m\u001b[0;34m,\u001b[0m\u001b[0mepsilon_SS\u001b[0m\u001b[0;34m,\u001b[0m\u001b[0mepsilonf_SS\u001b[0m\u001b[0;34m)\u001b[0m \u001b[0;34m,\u001b[0m \u001b[0mnp\u001b[0m\u001b[0;34m.\u001b[0m\u001b[0mzeros\u001b[0m\u001b[0;34m(\u001b[0m\u001b[0mnX\u001b[0m\u001b[0;34m)\u001b[0m\u001b[0;34m)\u001b[0m\u001b[0;34m)\u001b[0m\u001b[0;34m\u001b[0m\u001b[0;34m\u001b[0m\u001b[0m\n\u001b[0m\u001b[1;32m    115\u001b[0m \u001b[0;34m\u001b[0m\u001b[0m\n\u001b[1;32m    116\u001b[0m \u001b[0;34m\u001b[0m\u001b[0m\n",
            "\u001b[0;31mAssertionError\u001b[0m: "
          ]
        }
      ]
    }
  ],
  "metadata": {
    "colab": {
      "provenance": [],
      "authorship_tag": "ABX9TyPM12W2QrwaJALGzpOlZRmE",
      "include_colab_link": true
    },
    "kernelspec": {
      "display_name": "Python 3",
      "name": "python3"
    }
  },
  "nbformat": 4,
  "nbformat_minor": 0
}