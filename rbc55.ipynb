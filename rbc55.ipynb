{
  "cells": [
    {
      "cell_type": "markdown",
      "metadata": {
        "id": "view-in-github",
        "colab_type": "text"
      },
      "source": [
        "<a href=\"https://colab.research.google.com/github/taba1/test1/blob/master/rbc55.ipynb\" target=\"_parent\"><img src=\"https://colab.research.google.com/assets/colab-badge.svg\" alt=\"Open In Colab\"/></a>"
      ]
    },
    {
      "cell_type": "code",
      "execution_count": null,
      "metadata": {
        "id": "iI0fC60Kq5be",
        "outputId": "1aac8f30-2124-41a5-eb9f-b65ffe7ca4c0",
        "colab": {
          "base_uri": "https://localhost:8080/"
        }
      },
      "outputs": [
        {
          "output_type": "stream",
          "name": "stdout",
          "text": [
            "Requirement already satisfied: autograd in /usr/local/lib/python3.10/dist-packages (1.6.2)\n",
            "Requirement already satisfied: numpy>=1.12 in /usr/local/lib/python3.10/dist-packages (from autograd) (1.23.5)\n",
            "Requirement already satisfied: future>=0.15.2 in /usr/local/lib/python3.10/dist-packages (from autograd) (0.18.3)\n"
          ]
        }
      ],
      "source": [
        "!pip install autograd"
      ]
    },
    {
      "cell_type": "code",
      "execution_count": null,
      "metadata": {
        "id": "U8k8U_XYAUsf",
        "outputId": "7c07084b-ffbd-4c2b-8c03-2db7f62f6f40",
        "colab": {
          "base_uri": "https://localhost:8080/",
          "height": 1000
        }
      },
      "outputs": [
        {
          "output_type": "stream",
          "name": "stdout",
          "text": [
            "Requirement already satisfied: matplotlib in /usr/local/lib/python3.10/dist-packages (3.7.1)\n",
            "Requirement already satisfied: contourpy>=1.0.1 in /usr/local/lib/python3.10/dist-packages (from matplotlib) (1.1.1)\n",
            "Requirement already satisfied: cycler>=0.10 in /usr/local/lib/python3.10/dist-packages (from matplotlib) (0.12.1)\n",
            "Requirement already satisfied: fonttools>=4.22.0 in /usr/local/lib/python3.10/dist-packages (from matplotlib) (4.43.1)\n",
            "Requirement already satisfied: kiwisolver>=1.0.1 in /usr/local/lib/python3.10/dist-packages (from matplotlib) (1.4.5)\n",
            "Requirement already satisfied: numpy>=1.20 in /usr/local/lib/python3.10/dist-packages (from matplotlib) (1.23.5)\n",
            "Requirement already satisfied: packaging>=20.0 in /usr/local/lib/python3.10/dist-packages (from matplotlib) (23.2)\n",
            "Requirement already satisfied: pillow>=6.2.0 in /usr/local/lib/python3.10/dist-packages (from matplotlib) (9.4.0)\n",
            "Requirement already satisfied: pyparsing>=2.3.1 in /usr/local/lib/python3.10/dist-packages (from matplotlib) (3.1.1)\n",
            "Requirement already satisfied: python-dateutil>=2.7 in /usr/local/lib/python3.10/dist-packages (from matplotlib) (2.8.2)\n",
            "Requirement already satisfied: six>=1.5 in /usr/local/lib/python3.10/dist-packages (from python-dateutil>=2.7->matplotlib) (1.16.0)\n",
            "Requirement already satisfied: scipy in /usr/local/lib/python3.10/dist-packages (1.11.3)\n",
            "Requirement already satisfied: numpy<1.28.0,>=1.21.6 in /usr/local/lib/python3.10/dist-packages (from scipy) (1.23.5)\n",
            "Requirement already satisfied: matplotlib in /usr/local/lib/python3.10/dist-packages (3.7.1)\n",
            "Requirement already satisfied: contourpy>=1.0.1 in /usr/local/lib/python3.10/dist-packages (from matplotlib) (1.1.1)\n",
            "Requirement already satisfied: cycler>=0.10 in /usr/local/lib/python3.10/dist-packages (from matplotlib) (0.12.1)\n",
            "Requirement already satisfied: fonttools>=4.22.0 in /usr/local/lib/python3.10/dist-packages (from matplotlib) (4.43.1)\n",
            "Requirement already satisfied: kiwisolver>=1.0.1 in /usr/local/lib/python3.10/dist-packages (from matplotlib) (1.4.5)\n",
            "Requirement already satisfied: numpy>=1.20 in /usr/local/lib/python3.10/dist-packages (from matplotlib) (1.23.5)\n",
            "Requirement already satisfied: packaging>=20.0 in /usr/local/lib/python3.10/dist-packages (from matplotlib) (23.2)\n",
            "Requirement already satisfied: pillow>=6.2.0 in /usr/local/lib/python3.10/dist-packages (from matplotlib) (9.4.0)\n",
            "Requirement already satisfied: pyparsing>=2.3.1 in /usr/local/lib/python3.10/dist-packages (from matplotlib) (3.1.1)\n",
            "Requirement already satisfied: python-dateutil>=2.7 in /usr/local/lib/python3.10/dist-packages (from matplotlib) (2.8.2)\n",
            "Requirement already satisfied: six>=1.5 in /usr/local/lib/python3.10/dist-packages (from python-dateutil>=2.7->matplotlib) (1.16.0)\n",
            "Requirement already satisfied: matplotlib in /usr/local/lib/python3.10/dist-packages (3.7.1)\n",
            "Collecting matplotlib\n",
            "  Downloading matplotlib-3.8.1-cp310-cp310-manylinux_2_17_x86_64.manylinux2014_x86_64.whl (11.6 MB)\n",
            "\u001b[2K     \u001b[90m━━━━━━━━━━━━━━━━━━━━━━━━━━━━━━━━━━━━━━━━\u001b[0m \u001b[32m11.6/11.6 MB\u001b[0m \u001b[31m41.9 MB/s\u001b[0m eta \u001b[36m0:00:00\u001b[0m\n",
            "\u001b[?25hRequirement already satisfied: contourpy>=1.0.1 in /usr/local/lib/python3.10/dist-packages (from matplotlib) (1.1.1)\n",
            "Requirement already satisfied: cycler>=0.10 in /usr/local/lib/python3.10/dist-packages (from matplotlib) (0.12.1)\n",
            "Requirement already satisfied: fonttools>=4.22.0 in /usr/local/lib/python3.10/dist-packages (from matplotlib) (4.43.1)\n",
            "Requirement already satisfied: kiwisolver>=1.3.1 in /usr/local/lib/python3.10/dist-packages (from matplotlib) (1.4.5)\n",
            "Requirement already satisfied: numpy<2,>=1.21 in /usr/local/lib/python3.10/dist-packages (from matplotlib) (1.23.5)\n",
            "Requirement already satisfied: packaging>=20.0 in /usr/local/lib/python3.10/dist-packages (from matplotlib) (23.2)\n",
            "Requirement already satisfied: pillow>=8 in /usr/local/lib/python3.10/dist-packages (from matplotlib) (9.4.0)\n",
            "Requirement already satisfied: pyparsing>=2.3.1 in /usr/local/lib/python3.10/dist-packages (from matplotlib) (3.1.1)\n",
            "Requirement already satisfied: python-dateutil>=2.7 in /usr/local/lib/python3.10/dist-packages (from matplotlib) (2.8.2)\n",
            "Requirement already satisfied: six>=1.5 in /usr/local/lib/python3.10/dist-packages (from python-dateutil>=2.7->matplotlib) (1.16.0)\n",
            "Installing collected packages: matplotlib\n",
            "  Attempting uninstall: matplotlib\n",
            "    Found existing installation: matplotlib 3.7.1\n",
            "    Uninstalling matplotlib-3.7.1:\n",
            "      Successfully uninstalled matplotlib-3.7.1\n",
            "\u001b[31mERROR: pip's dependency resolver does not currently take into account all the packages that are installed. This behaviour is the source of the following dependency conflicts.\n",
            "lida 0.0.10 requires fastapi, which is not installed.\n",
            "lida 0.0.10 requires kaleido, which is not installed.\n",
            "lida 0.0.10 requires python-multipart, which is not installed.\n",
            "lida 0.0.10 requires uvicorn, which is not installed.\u001b[0m\u001b[31m\n",
            "\u001b[0mSuccessfully installed matplotlib-3.8.1\n"
          ]
        },
        {
          "output_type": "display_data",
          "data": {
            "application/vnd.colab-display-data+json": {
              "pip_warning": {
                "packages": [
                  "matplotlib",
                  "mpl_toolkits"
                ]
              }
            }
          },
          "metadata": {}
        }
      ],
      "source": [
        "!pip install matplotlib\n",
        "!pip install scipy\n",
        "!pip install matplotlib\n",
        "!pip install --upgrade matplotlib"
      ]
    },
    {
      "cell_type": "code",
      "execution_count": null,
      "metadata": {
        "id": "jcrR4tqMqXeK"
      },
      "outputs": [],
      "source": [
        "!python /content/HANK_EGM.py"
      ]
    },
    {
      "cell_type": "code",
      "execution_count": null,
      "metadata": {
        "id": "haYC3uiZDoe0"
      },
      "outputs": [],
      "source": [
        "# RBC.pyファイルのパスを指定\n",
        "file_path = \"/content/HANK_EGM.py\"\n",
        "\n",
        "# ファイルを開いて中身を表示\n",
        "with open(file_path, 'r') as file:\n",
        "    code_content = file.read()\n",
        "\n",
        "# 中身を表示\n",
        "print(code_content)"
      ]
    },
    {
      "cell_type": "code",
      "source": [
        "import autograd.numpy as np\n",
        "from autograd import jacobian\n",
        "np.set_printoptions(suppress=True,precision=4)\n",
        "\n",
        "from Support import SolveSystem\n",
        "\n",
        "# Indexing\n",
        "nX = 10\n",
        "nEps = 1\n",
        "iZ, iR, iK, iY, iC, iZf, iRf, iKf, iYf, iCf= range(nX)\n",
        "\n",
        "\n",
        "# Parameters\n",
        "alpha = 0.4\n",
        "beta = 0.98\n",
        "gamma = 2.0\n",
        "delta = 0.02\n",
        "rho = 0.95\n",
        "\n",
        "alphaf = 0.4\n",
        "betaf = 0.98\n",
        "gammaf = 2.0\n",
        "deltaf = 0.02\n",
        "rhof = 0.95\n",
        "\n",
        "\n",
        "\n",
        "def SteadyState():\n",
        "    Z = 1.\n",
        "    R = 1/beta\n",
        "    K = ((R-1+delta)/alpha)**(1./(alpha-1))\n",
        "    Y = K**alpha\n",
        "    C = Y - delta*K\n",
        "\n",
        "    Zf = 1.\n",
        "    Rf = 1/betaf\n",
        "    Kf = ((R-1+deltaf)/alphaf)**(1./(alphaf-1))\n",
        "    Yf = Kf**alphaf\n",
        "    Cf = Yf - deltaf*Kf\n",
        "\n",
        "\n",
        "    X = np.zeros(nX)\n",
        "    X[[iZ, iR, iK, iY, iC,iZf, iRf, iKf, iYf, iCf]] = (Z, R, K, Y, C,Zf,Rf,Kf,Yf,Cf)\n",
        "    return X\n",
        "\n",
        "X_SS = SteadyState()\n",
        "epsilon_SS = 0.0\n",
        "epsilonf_SS = 0.0\n",
        "print(\"Steady state: {}\".format(X_SS))\n",
        "\n",
        "# Model equations\n",
        "def F(X_Lag,X,X_Prime,epsilon,epsilonf):\n",
        "\n",
        "    # Unpack\n",
        "    Z, R, K, Y, C, Zf, Rf, Kf, Yf, Cf = X\n",
        "    Z_L, R_L, K_L, Y_L, C_L,Zf_L, Rf_L, Kf_L, Yf_L, Cf_L = X_Lag\n",
        "    Z_P, R_P, K_P, Y_P, C_P,Zf_P, Rf_P, Kf_P, Yf_P, Cf_P = X_Prime\n",
        "\n",
        "    print(\"Debug - X_lag\",X_Lag)\n",
        "    print(\"Debug - X\",X )\n",
        "    print(\"Debug - X_prime\",X_Prime)\n",
        "\n",
        "    return np.hstack((\n",
        "            beta * R_P * C_P**(-gamma) * C**gamma - 1.0, # Euler equation\n",
        "            alpha * Z  * K_L **(alpha-1) + 1 -delta - R, # MPK\n",
        "            (1-delta) * K_L + Y - C - K,# Aggregate resource constraint\n",
        "            Z * K_L**alpha - Y,# Production function\n",
        "            rho * np.log(Z_L) + epsilon - np.log(Z),# TFP evolution\n",
        "\n",
        "            betaf * Rf_P * Cf_P**(-gamma) * Cf**gamma - 1.0, # Euler equation\n",
        "            alphaf * Zf  * Kf_L **(alphaf-1) + 1 -deltaf - Rf, # MPK\n",
        "            (1-deltaf) * Kf_L + Yf - Cf - Kf,# Aggregate resource constraint\n",
        "            Zf * Kf_L**alphaf - Yf,# Production function\n",
        "            rhof * np.log(Zf_L) + epsilonf - np.log(Zf)# TFP evolution\n",
        "            ))\n",
        "\n",
        "\n",
        "# Check steady state\n",
        "assert( np.allclose( F(X_SS,X_SS,X_SS,epsilon_SS,epsilonf_SS) , np.zeros(nX)))\n",
        "\n",
        "\n",
        "# Linearize\n",
        "A = jacobian(lambda x: F(X_SS,X_SS,x,epsilon_SS,epsilonf_SS))(X_SS)\n",
        "B = jacobian(lambda x: F(X_SS,x,X_SS,epsilon_SS,epsilonf_SS))(X_SS)\n",
        "C = jacobian(lambda x: F(x,X_SS,X_SS,epsilon_SS,epsilonf_SS))(X_SS)\n",
        "E = jacobian(lambda x: F(X_SS, X_SS, X_SS, x, epsilonf_SS))(epsilon_SS)\n",
        "\n",
        "\n",
        "\n",
        "P, Q = SolveSystem(A,B,C,E)\n",
        "\n",
        "\n",
        "# Calculate an impulse response\n",
        "IRF_RBC = np.zeros((nX,100))\n",
        "IRF_RBC[:,0] = Q * 0.01\n",
        "\n",
        "for t in range(1,100):\n",
        "    IRF_RBC[:,t] = P@IRF_RBC[:,t-1]\n",
        "\n",
        "\n",
        "# This material below runs only if this file is executed as a script\n",
        "if __name__ == \"__main__\":\n",
        "\n",
        "\n",
        "    print(\"A: {}\".format(A))\n",
        "    print(\"B: {}\".format(B))\n",
        "    print(\"C: {}\".format(C))\n",
        "    print(\"E: {}\".format(E))\n",
        "\n",
        "    import matplotlib.pyplot as plt\n",
        "    plt.plot(IRF_RBC[iY,:])"
      ],
      "metadata": {
        "colab": {
          "base_uri": "https://localhost:8080/",
          "height": 1000
        },
        "id": "Ei2FiyLCsOdH",
        "outputId": "b9e668b6-2e87-4992-f51b-732bca5be9db"
      },
      "execution_count": null,
      "outputs": [
        {
          "output_type": "stream",
          "name": "stdout",
          "text": [
            "Steady state: [ 1.      1.0204 45.6371  4.6103  3.6975  1.      1.0204 45.6371  4.6103\n",
            "  3.6975]\n",
            "Debug - X_lag [ 1.      1.0204 45.6371  4.6103  3.6975  1.      1.0204 45.6371  4.6103\n",
            "  3.6975]\n",
            "Debug - X [ 1.      1.0204 45.6371  4.6103  3.6975  1.      1.0204 45.6371  4.6103\n",
            "  3.6975]\n",
            "Debug - X_prime [ 1.      1.0204 45.6371  4.6103  3.6975  1.      1.0204 45.6371  4.6103\n",
            "  3.6975]\n",
            "Debug - X_lag [ 1.      1.0204 45.6371  4.6103  3.6975  1.      1.0204 45.6371  4.6103\n",
            "  3.6975]\n",
            "Debug - X [ 1.      1.0204 45.6371  4.6103  3.6975  1.      1.0204 45.6371  4.6103\n",
            "  3.6975]\n",
            "Debug - X_prime Autograd ArrayBox with value [ 1.      1.0204 45.6371  4.6103  3.6975  1.      1.0204 45.6371  4.6103\n",
            "  3.6975]\n",
            "Debug - X_lag [ 1.      1.0204 45.6371  4.6103  3.6975  1.      1.0204 45.6371  4.6103\n",
            "  3.6975]\n",
            "Debug - X Autograd ArrayBox with value [ 1.      1.0204 45.6371  4.6103  3.6975  1.      1.0204 45.6371  4.6103\n",
            "  3.6975]\n",
            "Debug - X_prime [ 1.      1.0204 45.6371  4.6103  3.6975  1.      1.0204 45.6371  4.6103\n",
            "  3.6975]\n",
            "Debug - X_lag Autograd ArrayBox with value [ 1.      1.0204 45.6371  4.6103  3.6975  1.      1.0204 45.6371  4.6103\n",
            "  3.6975]\n",
            "Debug - X [ 1.      1.0204 45.6371  4.6103  3.6975  1.      1.0204 45.6371  4.6103\n",
            "  3.6975]\n",
            "Debug - X_prime [ 1.      1.0204 45.6371  4.6103  3.6975  1.      1.0204 45.6371  4.6103\n",
            "  3.6975]\n",
            "Debug - X_lag [ 1.      1.0204 45.6371  4.6103  3.6975  1.      1.0204 45.6371  4.6103\n",
            "  3.6975]\n",
            "Debug - X [ 1.      1.0204 45.6371  4.6103  3.6975  1.      1.0204 45.6371  4.6103\n",
            "  3.6975]\n",
            "Debug - X_prime [ 1.      1.0204 45.6371  4.6103  3.6975  1.      1.0204 45.6371  4.6103\n",
            "  3.6975]\n",
            "Solving the system\n",
            "0.033458767346938194\n",
            "0.01951667807961019\n",
            "0.018018686138547957\n",
            "0.007246932377006465\n",
            "0.0022896249276133096\n",
            "0.0006651658638333613\n",
            "0.00018696881048174685\n",
            "5.179013212242012e-05\n",
            "1.4243530620627887e-05\n",
            "3.9027734703989125e-06\n",
            "1.0672323650373627e-06\n",
            "2.915188909158317e-07\n",
            "A: [[ 0.      0.98    0.      0.     -0.5409  0.      0.      0.      0.\n",
            "   0.    ]\n",
            " [ 0.      0.      0.      0.      0.      0.      0.      0.      0.\n",
            "   0.    ]\n",
            " [ 0.      0.      0.      0.      0.      0.      0.      0.      0.\n",
            "   0.    ]\n",
            " [ 0.      0.      0.      0.      0.      0.      0.      0.      0.\n",
            "   0.    ]\n",
            " [ 0.      0.      0.      0.      0.      0.      0.      0.      0.\n",
            "   0.    ]\n",
            " [ 0.      0.      0.      0.      0.      0.      0.98    0.      0.\n",
            "  -0.5409]\n",
            " [ 0.      0.      0.      0.      0.      0.      0.      0.      0.\n",
            "   0.    ]\n",
            " [ 0.      0.      0.      0.      0.      0.      0.      0.      0.\n",
            "   0.    ]\n",
            " [ 0.      0.      0.      0.      0.      0.      0.      0.      0.\n",
            "   0.    ]\n",
            " [ 0.      0.      0.      0.      0.      0.      0.      0.      0.\n",
            "   0.    ]]\n",
            "B: [[ 0.      0.      0.      0.      0.5409  0.      0.      0.      0.\n",
            "   0.    ]\n",
            " [ 0.0404 -1.      0.      0.      0.      0.      0.      0.      0.\n",
            "   0.    ]\n",
            " [ 0.      0.     -1.      1.     -1.      0.      0.      0.      0.\n",
            "   0.    ]\n",
            " [ 4.6103  0.      0.     -1.      0.      0.      0.      0.      0.\n",
            "   0.    ]\n",
            " [-1.      0.      0.      0.      0.      0.      0.      0.      0.\n",
            "   0.    ]\n",
            " [ 0.      0.      0.      0.      0.      0.      0.      0.      0.\n",
            "   0.5409]\n",
            " [ 0.      0.      0.      0.      0.      0.0404 -1.      0.      0.\n",
            "   0.    ]\n",
            " [ 0.      0.      0.      0.      0.      0.      0.     -1.      1.\n",
            "  -1.    ]\n",
            " [ 0.      0.      0.      0.      0.      4.6103  0.      0.     -1.\n",
            "   0.    ]\n",
            " [ 0.      0.      0.      0.      0.     -1.      0.      0.      0.\n",
            "   0.    ]]\n",
            "C: [[ 0.      0.      0.      0.      0.      0.      0.      0.      0.\n",
            "   0.    ]\n",
            " [ 0.      0.     -0.0005  0.      0.      0.      0.      0.      0.\n",
            "   0.    ]\n",
            " [ 0.      0.      0.98    0.      0.      0.      0.      0.      0.\n",
            "   0.    ]\n",
            " [ 0.      0.      0.0404  0.      0.      0.      0.      0.      0.\n",
            "   0.    ]\n",
            " [ 0.95    0.      0.      0.      0.      0.      0.      0.      0.\n",
            "   0.    ]\n",
            " [ 0.      0.      0.      0.      0.      0.      0.      0.      0.\n",
            "   0.    ]\n",
            " [ 0.      0.      0.      0.      0.      0.      0.     -0.0005  0.\n",
            "   0.    ]\n",
            " [ 0.      0.      0.      0.      0.      0.      0.      0.98    0.\n",
            "   0.    ]\n",
            " [ 0.      0.      0.      0.      0.      0.      0.      0.0404  0.\n",
            "   0.    ]\n",
            " [ 0.      0.      0.      0.      0.      0.95    0.      0.      0.\n",
            "   0.    ]]\n",
            "E: [0. 0. 0. 0. 1. 0. 0. 0. 0. 0.]\n"
          ]
        },
        {
          "output_type": "display_data",
          "data": {
            "text/plain": [
              "<Figure size 640x480 with 1 Axes>"
            ],
            "image/png": "[encoded data removed]"
          },
          "metadata": {}
        }
      ]
    }
  ],
  "metadata": {
    "colab": {
      "provenance": [],
      "authorship_tag": "ABX9TyNyavhTjKfWF2wyiqH8/DjF",
      "include_colab_link": true
    },
    "kernelspec": {
      "display_name": "Python 3",
      "name": "python3"
    }
  },
  "nbformat": 4,
  "nbformat_minor": 0
}