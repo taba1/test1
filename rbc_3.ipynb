{
  "cells": [
    {
      "cell_type": "markdown",
      "metadata": {
        "id": "view-in-github",
        "colab_type": "text"
      },
      "source": [
        "<a href=\"https://colab.research.google.com/github/taba1/test1/blob/master/rbc_3.ipynb\" target=\"_parent\"><img src=\"https://colab.research.google.com/assets/colab-badge.svg\" alt=\"Open In Colab\"/></a>"
      ]
    },
    {
      "cell_type": "code",
      "execution_count": 1,
      "metadata": {
        "colab": {
          "base_uri": "https://localhost:8080/"
        },
        "id": "iI0fC60Kq5be",
        "outputId": "caa9b089-7943-4d2f-ec82-be73a2ba7c51"
      },
      "outputs": [
        {
          "output_type": "stream",
          "name": "stdout",
          "text": [
            "Requirement already satisfied: autograd in /usr/local/lib/python3.10/dist-packages (1.6.2)\n",
            "Requirement already satisfied: numpy>=1.12 in /usr/local/lib/python3.10/dist-packages (from autograd) (1.23.5)\n",
            "Requirement already satisfied: future>=0.15.2 in /usr/local/lib/python3.10/dist-packages (from autograd) (0.18.3)\n"
          ]
        }
      ],
      "source": [
        "!pip install autograd"
      ]
    },
    {
      "cell_type": "code",
      "execution_count": 3,
      "metadata": {
        "id": "U8k8U_XYAUsf",
        "colab": {
          "base_uri": "https://localhost:8080/"
        },
        "outputId": "1d0e4e92-d304-4803-c6a6-dd5b4216109f"
      },
      "outputs": [
        {
          "output_type": "stream",
          "name": "stdout",
          "text": [
            "Requirement already satisfied: matplotlib in /usr/local/lib/python3.10/dist-packages (3.8.1)\n",
            "Requirement already satisfied: contourpy>=1.0.1 in /usr/local/lib/python3.10/dist-packages (from matplotlib) (1.1.1)\n",
            "Requirement already satisfied: cycler>=0.10 in /usr/local/lib/python3.10/dist-packages (from matplotlib) (0.12.1)\n",
            "Requirement already satisfied: fonttools>=4.22.0 in /usr/local/lib/python3.10/dist-packages (from matplotlib) (4.43.1)\n",
            "Requirement already satisfied: kiwisolver>=1.3.1 in /usr/local/lib/python3.10/dist-packages (from matplotlib) (1.4.5)\n",
            "Requirement already satisfied: numpy<2,>=1.21 in /usr/local/lib/python3.10/dist-packages (from matplotlib) (1.23.5)\n",
            "Requirement already satisfied: packaging>=20.0 in /usr/local/lib/python3.10/dist-packages (from matplotlib) (23.2)\n",
            "Requirement already satisfied: pillow>=8 in /usr/local/lib/python3.10/dist-packages (from matplotlib) (9.4.0)\n",
            "Requirement already satisfied: pyparsing>=2.3.1 in /usr/local/lib/python3.10/dist-packages (from matplotlib) (3.1.1)\n",
            "Requirement already satisfied: python-dateutil>=2.7 in /usr/local/lib/python3.10/dist-packages (from matplotlib) (2.8.2)\n",
            "Requirement already satisfied: six>=1.5 in /usr/local/lib/python3.10/dist-packages (from python-dateutil>=2.7->matplotlib) (1.16.0)\n",
            "Requirement already satisfied: scipy in /usr/local/lib/python3.10/dist-packages (1.11.3)\n",
            "Requirement already satisfied: numpy<1.28.0,>=1.21.6 in /usr/local/lib/python3.10/dist-packages (from scipy) (1.23.5)\n",
            "Requirement already satisfied: matplotlib in /usr/local/lib/python3.10/dist-packages (3.8.1)\n",
            "Requirement already satisfied: contourpy>=1.0.1 in /usr/local/lib/python3.10/dist-packages (from matplotlib) (1.1.1)\n",
            "Requirement already satisfied: cycler>=0.10 in /usr/local/lib/python3.10/dist-packages (from matplotlib) (0.12.1)\n",
            "Requirement already satisfied: fonttools>=4.22.0 in /usr/local/lib/python3.10/dist-packages (from matplotlib) (4.43.1)\n",
            "Requirement already satisfied: kiwisolver>=1.3.1 in /usr/local/lib/python3.10/dist-packages (from matplotlib) (1.4.5)\n",
            "Requirement already satisfied: numpy<2,>=1.21 in /usr/local/lib/python3.10/dist-packages (from matplotlib) (1.23.5)\n",
            "Requirement already satisfied: packaging>=20.0 in /usr/local/lib/python3.10/dist-packages (from matplotlib) (23.2)\n",
            "Requirement already satisfied: pillow>=8 in /usr/local/lib/python3.10/dist-packages (from matplotlib) (9.4.0)\n",
            "Requirement already satisfied: pyparsing>=2.3.1 in /usr/local/lib/python3.10/dist-packages (from matplotlib) (3.1.1)\n",
            "Requirement already satisfied: python-dateutil>=2.7 in /usr/local/lib/python3.10/dist-packages (from matplotlib) (2.8.2)\n",
            "Requirement already satisfied: six>=1.5 in /usr/local/lib/python3.10/dist-packages (from python-dateutil>=2.7->matplotlib) (1.16.0)\n",
            "Requirement already satisfied: matplotlib in /usr/local/lib/python3.10/dist-packages (3.8.1)\n",
            "Requirement already satisfied: contourpy>=1.0.1 in /usr/local/lib/python3.10/dist-packages (from matplotlib) (1.1.1)\n",
            "Requirement already satisfied: cycler>=0.10 in /usr/local/lib/python3.10/dist-packages (from matplotlib) (0.12.1)\n",
            "Requirement already satisfied: fonttools>=4.22.0 in /usr/local/lib/python3.10/dist-packages (from matplotlib) (4.43.1)\n",
            "Requirement already satisfied: kiwisolver>=1.3.1 in /usr/local/lib/python3.10/dist-packages (from matplotlib) (1.4.5)\n",
            "Requirement already satisfied: numpy<2,>=1.21 in /usr/local/lib/python3.10/dist-packages (from matplotlib) (1.23.5)\n",
            "Requirement already satisfied: packaging>=20.0 in /usr/local/lib/python3.10/dist-packages (from matplotlib) (23.2)\n",
            "Requirement already satisfied: pillow>=8 in /usr/local/lib/python3.10/dist-packages (from matplotlib) (9.4.0)\n",
            "Requirement already satisfied: pyparsing>=2.3.1 in /usr/local/lib/python3.10/dist-packages (from matplotlib) (3.1.1)\n",
            "Requirement already satisfied: python-dateutil>=2.7 in /usr/local/lib/python3.10/dist-packages (from matplotlib) (2.8.2)\n",
            "Requirement already satisfied: six>=1.5 in /usr/local/lib/python3.10/dist-packages (from python-dateutil>=2.7->matplotlib) (1.16.0)\n"
          ]
        }
      ],
      "source": [
        "!pip install matplotlib\n",
        "!pip install scipy\n",
        "!pip install matplotlib\n",
        "!pip install --upgrade matplotlib"
      ]
    },
    {
      "cell_type": "code",
      "source": [
        "from os import RTLD_DEEPBIND\n",
        "import autograd.numpy as np\n",
        "from autograd import jacobian\n",
        "np.set_printoptions(suppress=True,precision=4)\n",
        "\n",
        "from Support import SolveSystem\n",
        "\n",
        "# Indexing\n",
        "nX = 6\n",
        "nEps = 1\n",
        "iZ, iR, iK, iY, iC, iQ = range(nX)\n",
        "\n",
        "\n",
        "# Parameters\n",
        "alpha = 0.4\n",
        "beta = 0.98\n",
        "gamma = 2.0\n",
        "delta = 0.02\n",
        "rho = 0.95\n",
        "beta_Y =0.0\n",
        "\n",
        "\n",
        "\n",
        "def SteadyState():\n",
        "    Z = 1.\n",
        "    R = 1/beta\n",
        "    K = ((R-1+delta)/alpha)**(1./(alpha-1))\n",
        "    Q = K\n",
        "    Y = K**alpha\n",
        "    C = Y - delta*K\n",
        "\n",
        "    X = np.zeros(nX)\n",
        "    X[[iZ, iR, iK, iY, iC]] = (Z, R, K, Y, C)\n",
        "    return X\n",
        "\n",
        "X_SS = SteadyState()\n",
        "epsilon_SS = 0.0\n",
        "print(\"Steady state: {}\".format(X_SS))\n",
        "\n",
        "# Model equations\n",
        "def F(X_Lag,X,X_Prime,epsilon):\n",
        "\n",
        "    # Unpack\n",
        "    Z, R, K, Y, C,Q = X\n",
        "    Z_L, R_L, K_L, Y_L, C_L,Q_L = X_Lag\n",
        "    Z_P, R_P, K_P, Y_P, C_P,Q_P = X_Prime\n",
        "\n",
        "    print(\"Debug - X_lag\",X_Lag)\n",
        "    print(\"Debug - X\",X )\n",
        "    print(\"Debug - X_prime\",X_Prime)\n",
        "\n",
        "    return np.hstack((\n",
        "\n",
        "            beta *Q*C_P**(-gamma) * C**gamma - Q_P, # Euler equation\n",
        "            alpha * Z  * K_L **(alpha-1) + 1 -delta - R, # MPK\n",
        "            (1-delta) * K_L + Y - C - K,# Aggregate resource constraint\n",
        "            Z * K_L**alpha - Y,# Production function\n",
        "            Q_P-R_P*Q, #+np.log(Z),\n",
        "            rho * np.log(Z_L) + epsilon - np.log(Z)# TFP evolution\n",
        "            ))\n",
        "\n",
        "\n",
        "# Check steady state\n",
        "assert( np.allclose( F(X_SS,X_SS,X_SS,epsilon_SS) , np.zeros(nX)))\n",
        "\n",
        "\n",
        "# Linearize\n",
        "A = jacobian(lambda x: F(X_SS,X_SS,x,epsilon_SS))(X_SS)\n",
        "B = jacobian(lambda x: F(X_SS,x,X_SS,epsilon_SS))(X_SS)\n",
        "C = jacobian(lambda x: F(x,X_SS,X_SS,epsilon_SS))(X_SS)\n",
        "E = jacobian(lambda x: F(X_SS,X_SS,X_SS,x))(epsilon_SS)\n",
        "\n",
        "\n",
        "\n",
        "\n",
        "P, Q = SolveSystem(A,B,C,E)\n",
        "\n",
        "\n",
        "# Calculate an impulse response\n",
        "IRF_RBC = np.zeros((nX,100))\n",
        "IRF_RBC[:,0] = Q * 0.01\n",
        "\n",
        "for t in range(1,100):\n",
        "    IRF_RBC[:,t] = P@IRF_RBC[:,t-1]\n",
        "\n",
        "\n",
        "# This material below runs only if this file is executed as a script\n",
        "if __name__ == \"__main__\":\n",
        "\n",
        "\n",
        "    print(\"A: {}\".format(A))\n",
        "    print(\"B: {}\".format(B))\n",
        "    print(\"C: {}\".format(C))\n",
        "    print(\"E: {}\".format(E))\n",
        "\n",
        "    import matplotlib.pyplot as plt\n",
        "    plt.plot(IRF_RBC[iY,:])"
      ],
      "metadata": {
        "colab": {
          "base_uri": "https://localhost:8080/",
          "height": 1000
        },
        "id": "Ei2FiyLCsOdH",
        "outputId": "9601a4b0-f6ed-43dd-befc-7fb45f961fc8"
      },
      "execution_count": 7,
      "outputs": [
        {
          "output_type": "stream",
          "name": "stdout",
          "text": [
            "Steady state: [ 1.      1.0204 45.6371  4.6103  3.6975  0.    ]\n",
            "Debug - X_lag [ 1.      1.0204 45.6371  4.6103  3.6975  0.    ]\n",
            "Debug - X [ 1.      1.0204 45.6371  4.6103  3.6975  0.    ]\n",
            "Debug - X_prime [ 1.      1.0204 45.6371  4.6103  3.6975  0.    ]\n",
            "Debug - X_lag [ 1.      1.0204 45.6371  4.6103  3.6975  0.    ]\n",
            "Debug - X [ 1.      1.0204 45.6371  4.6103  3.6975  0.    ]\n",
            "Debug - X_prime Autograd ArrayBox with value [ 1.      1.0204 45.6371  4.6103  3.6975  0.    ]\n",
            "Debug - X_lag [ 1.      1.0204 45.6371  4.6103  3.6975  0.    ]\n",
            "Debug - X Autograd ArrayBox with value [ 1.      1.0204 45.6371  4.6103  3.6975  0.    ]\n",
            "Debug - X_prime [ 1.      1.0204 45.6371  4.6103  3.6975  0.    ]\n",
            "Debug - X_lag Autograd ArrayBox with value [ 1.      1.0204 45.6371  4.6103  3.6975  0.    ]\n",
            "Debug - X [ 1.      1.0204 45.6371  4.6103  3.6975  0.    ]\n",
            "Debug - X_prime [ 1.      1.0204 45.6371  4.6103  3.6975  0.    ]\n",
            "Debug - X_lag [ 1.      1.0204 45.6371  4.6103  3.6975  0.    ]\n",
            "Debug - X [ 1.      1.0204 45.6371  4.6103  3.6975  0.    ]\n",
            "Debug - X_prime [ 1.      1.0204 45.6371  4.6103  3.6975  0.    ]\n",
            "Solving the system\n",
            "1.7763568394002505e-15\n",
            "A: [[ 0.  0.  0.  0.  0. -1.]\n",
            " [ 0.  0.  0.  0.  0.  0.]\n",
            " [ 0.  0.  0.  0.  0.  0.]\n",
            " [ 0.  0.  0.  0.  0.  0.]\n",
            " [ 0.  0.  0.  0.  0.  1.]\n",
            " [ 0.  0.  0.  0.  0.  0.]]\n",
            "B: [[ 0.      0.      0.      0.      0.      0.98  ]\n",
            " [ 0.0404 -1.      0.      0.      0.      0.    ]\n",
            " [ 0.      0.     -1.      1.     -1.      0.    ]\n",
            " [ 4.6103  0.      0.     -1.      0.      0.    ]\n",
            " [ 0.      0.      0.      0.      0.     -1.0204]\n",
            " [-1.      0.      0.      0.      0.      0.    ]]\n",
            "C: [[ 0.      0.      0.      0.      0.      0.    ]\n",
            " [ 0.      0.     -0.0005  0.      0.      0.    ]\n",
            " [ 0.      0.      0.98    0.      0.      0.    ]\n",
            " [ 0.      0.      0.0404  0.      0.      0.    ]\n",
            " [ 0.      0.      0.      0.      0.      0.    ]\n",
            " [ 0.95    0.      0.      0.      0.      0.    ]]\n",
            "E: [0. 0. 0. 0. 0. 1.]\n"
          ]
        },
        {
          "output_type": "display_data",
          "data": {
            "text/plain": [
              "<Figure size 640x480 with 1 Axes>"
            ],
            "image/png": "[encoded data removed]"
          },
          "metadata": {}
        }
      ]
    }
  ],
  "metadata": {
    "colab": {
      "provenance": [],
      "authorship_tag": "ABX9TyOFQeonXWfkWI8/hjoaLl9N",
      "include_colab_link": true
    },
    "kernelspec": {
      "display_name": "Python 3",
      "name": "python3"
    }
  },
  "nbformat": 4,
  "nbformat_minor": 0
}